{
 "cells": [
  {
   "cell_type": "code",
   "execution_count": 41,
   "metadata": {},
   "outputs": [],
   "source": [
    "BASS_NOTE_DURATION = 1\n",
    "BASS_NOTES = ['c2', 'd2', 'e2']\n",
    "BASS_TRANSITIONS = [\n",
    "    ['cc', 'cd', 'ce'],\n",
    "    ['dc', 'dd', 'de'],\n",
    "    ['ec', 'ed', 'ee']\n",
    "]\n",
    "BASS_TRANSITION_MATRIX = [\n",
    "    [0.4, 0.3, 0.3],\n",
    "    [0.3, 0.4, 0.3],\n",
    "    [0.3, 0.3, 0.4]\n",
    "]\n",
    "\n",
    "MELODY_NOTE_DURATION = 0.25\n",
    "MELODY_NOTES = ['c5', 'd5', 'e5', 'f5', 'g5', 'a5', 'b5']\n",
    "MELODY_TRANSITIONS = [\n",
    "    ['cc', 'cd', 'ce', 'cf', 'cg', 'ca', 'cb'],\n",
    "    ['dc', 'dd', 'de', 'df', 'dg', 'da', 'db'],\n",
    "    ['ec', 'ed', 'ee', 'ef', 'eg', 'ea', 'eb'],\n",
    "    ['fc', 'fd', 'fe', 'ff', 'fg', 'fa', 'fb'],\n",
    "    ['gc', 'gd', 'ge', 'gf', 'gg', 'ga', 'gb'],\n",
    "    ['ac', 'ad', 'ae', 'af', 'ag', 'aa', 'ab'],\n",
    "    ['bc', 'bd', 'be', 'bf', 'bg', 'ba', 'bb'],\n",
    "]\n",
    "MELODY_TRANSITION_MATRIX = [\n",
    "    [0.15, 0.16, 0.07, 0.13, 0.27, 0.13, 0.09],\n",
    "    [0.04, 0.04, 0.55, 0.02, 0.04, 0.15, 0.16],\n",
    "    [0.16, 0.10, 0.50, 0.06, 0.03, 0.05, 0.10],\n",
    "    [0.33, 0.04, 0.19, 0.20, 0.20, 0.02, 0.02],\n",
    "    [0.10, 0.04, 0.22, 0.27, 0.06, 0.25, 0.06],\n",
    "    [0.08, 0.02, 0.25, 0.03, 0.20, 0.15, 0.27],\n",
    "    [0.06, 0.10, 0.10, 0.35, 0.11, 0.21, 0.07],\n",
    "]\n",
    "\n",
    "STEPS = 25"
   ]
  },
  {
   "cell_type": "code",
   "execution_count": 42,
   "metadata": {},
   "outputs": [],
   "source": [
    "import random as rm\n",
    "def get_next_bass_note(current_note):\n",
    "    index = BASS_NOTES.index(current_note)\n",
    "    possible_transitions = BASS_TRANSITIONS[index]\n",
    "    transitions_probabilities = BASS_TRANSITION_MATRIX[index]\n",
    "    random_number = rm.random()\n",
    "    acumm_prob = 0\n",
    "    index = 0\n",
    "    for prob in transitions_probabilities:\n",
    "        acumm_prob += prob\n",
    "        if random_number <= acumm_prob:\n",
    "            next_note = possible_transitions[index]\n",
    "            return next_note[1] + '2'\n",
    "        index += 1\n",
    "\n",
    "def get_next_melody_note(current_note):\n",
    "    index = MELODY_NOTES.index(current_note)\n",
    "    possible_transitions = MELODY_TRANSITIONS[index]\n",
    "    transitions_probabilities = MELODY_TRANSITION_MATRIX[index]\n",
    "    random_number = rm.random()\n",
    "    acumm_prob = 0\n",
    "    index = 0\n",
    "    for prob in transitions_probabilities:\n",
    "        acumm_prob += prob\n",
    "        if random_number <= acumm_prob:\n",
    "            next_note = possible_transitions[index]\n",
    "            return next_note[1] + '5'\n",
    "        index += 1"
   ]
  },
  {
   "cell_type": "code",
   "execution_count": 43,
   "metadata": {},
   "outputs": [],
   "source": [
    "import random as rm\n",
    "# Select starting bass note randomly\n",
    "starting_bass_note = BASS_NOTES[rm.randint(0, len(BASS_NOTES)-2)]\n",
    "\n",
    "# Select starting melody note randomly\n",
    "starting_melody_note = MELODY_NOTES[rm.randint(0, len(MELODY_NOTES)-2)]\n",
    "\n",
    "bass_note = starting_bass_note\n",
    "melody_note = starting_melody_note"
   ]
  },
  {
   "cell_type": "code",
   "execution_count": 44,
   "metadata": {},
   "outputs": [
    {
     "name": "stdout",
     "output_type": "stream",
     "text": [
      "Melody notes: f5 -> f5 -> c5 -> e5 -> e5 -> d5 -> e5 -> e5 -> e5 -> e5 -> c5 -> e5 -> e5 -> e5 -> f5 -> c5 -> d5 -> e5 -> d5 -> e5 -> e5 -> f5 -> c5 -> f5 -> d5 -> e5 -> c5 -> d5 -> d5 -> b5 -> f5 -> f5 -> e5 -> e5 -> e5 -> d5 -> b5 -> f5 -> g5 -> a5 -> a5 -> b5 -> f5 -> c5 -> g5 -> a5 -> e5 -> c5 -> g5 -> d5 -> \n",
      "Bass notes: d2 -> e2 -> e2 -> d2 -> c2 -> c2 -> c2 -> c2 -> d2 -> d2 -> e2 -> c2 -> d2 -> c2 -> "
     ]
    }
   ],
   "source": [
    "from tones import TRIANGLE_WAVE, SINE_WAVE\n",
    "from tones.mixer import Mixer\n",
    "import random\n",
    "\n",
    "\n",
    "mixer = Mixer(44100, 0.1)\n",
    "\n",
    "mixer.create_track(0, SINE_WAVE, attack=0.01, decay=0.01)\n",
    "mixer.create_track(1, TRIANGLE_WAVE, attack=0.01, decay=0.1)\n",
    "\n",
    "duration_total = 0\n",
    "print('Melody notes: ', end='')\n",
    "for i in range(STEPS*2):\n",
    "    melody_note = get_next_melody_note(melody_note)\n",
    "    random_duration = random.choice([1/8, 2/8, 3/8, 4/8])\n",
    "    duration_total += random_duration\n",
    "    mixer.add_note(1, note=melody_note[0], octave=int(melody_note[1]), duration=random_duration)\n",
    "    print(melody_note + ' -> ', end='')\n",
    "\n",
    "print()\n",
    "\n",
    "print('Bass notes: ', end='')\n",
    "for i in range(int(duration_total)):\n",
    "    bass_note = get_next_bass_note(bass_note)\n",
    "    mixer.add_note(0, note=bass_note[0], octave=int(bass_note[1]), duration=BASS_NOTE_DURATION)\n",
    "    print(bass_note + ' -> ', end='')\n",
    "\n",
    "\n",
    "mixer.add_note(1, note='c', octave=5, duration=1.0)\n",
    "\n",
    "mixer.write_wav('tones.wav')\n",
    "\n",
    "samples = mixer.mix()"
   ]
  }
 ],
 "metadata": {
  "kernelspec": {
   "display_name": "Python 3",
   "language": "python",
   "name": "python3"
  },
  "language_info": {
   "codemirror_mode": {
    "name": "ipython",
    "version": 3
   },
   "file_extension": ".py",
   "mimetype": "text/x-python",
   "name": "python",
   "nbconvert_exporter": "python",
   "pygments_lexer": "ipython3",
   "version": "3.11.2"
  },
  "orig_nbformat": 4
 },
 "nbformat": 4,
 "nbformat_minor": 2
}
